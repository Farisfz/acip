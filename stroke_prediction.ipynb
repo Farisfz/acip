{
 "cells": [
  {
   "cell_type": "code",
   "execution_count": 1,
   "id": "e76cd7bb",
   "metadata": {
    "scrolled": false
   },
   "outputs": [
    {
     "name": "stderr",
     "output_type": "stream",
     "text": [
      "C:\\Users\\Hasief\\AppData\\Local\\Temp\\ipykernel_28780\\1889570231.py:15: DeprecationWarning: Converting `np.inexact` or `np.floating` to a dtype is deprecated. The current result is `float64` which is not strictly correct.\n",
      "  if df[column].dtype==np.number:\n",
      "C:\\Users\\Hasief\\anaconda3\\lib\\site-packages\\sklearn\\linear_model\\_logistic.py:814: ConvergenceWarning: lbfgs failed to converge (status=1):\n",
      "STOP: TOTAL NO. of ITERATIONS REACHED LIMIT.\n",
      "\n",
      "Increase the number of iterations (max_iter) or scale the data as shown in:\n",
      "    https://scikit-learn.org/stable/modules/preprocessing.html\n",
      "Please also refer to the documentation for alternative solver options:\n",
      "    https://scikit-learn.org/stable/modules/linear_model.html#logistic-regression\n",
      "  n_iter_i = _check_optimize_result(\n"
     ]
    }
   ],
   "source": [
    "import numpy as np # linear algebra\n",
    "import pandas as pd # data processing, CSV file I/O (e.g. pd.read_csv)\n",
    "import matplotlib.pyplot as plt\n",
    "import seaborn as sns\n",
    "\n",
    "df = pd.read_csv('stroke-prediction(cleaned).csv')\n",
    "\n",
    "#use required features\n",
    "#Data engineering\n",
    "\n",
    "from sklearn.preprocessing import LabelEncoder\n",
    "le=LabelEncoder()\n",
    "\n",
    "for column in df.columns:\n",
    "    if df[column].dtype==np.number:\n",
    "        continue\n",
    "    df[column]=le.fit_transform(df[column])\n",
    "\n",
    "final_data = df[['gender','age','hypertension','heart_disease','ever_married','work_type','Residence_type','avg_glucose_level','bmi','smoking_status','stroke']]\n",
    "\n",
    "#Training Data and Predictor Variable\n",
    "# Use all data for training (tarin-test-split not used)\n",
    "from sklearn.model_selection import train_test_split\n",
    "X= final_data.iloc[:,:-1]\n",
    "y= final_data.iloc[:,-1]\n",
    "X_train,X_test,y_train,y_test = train_test_split(X,y,test_size=0.2,random_state=101)\n",
    "\n",
    "\n",
    "#Logistic Regression\n",
    "from sklearn.linear_model import LogisticRegression\n",
    "lgr= LogisticRegression(random_state = 1)\n",
    "lgr.fit(X_train,y_train)\n",
    "\n",
    "# Saving model to disk\n",
    "# Pickle serializes objects so they can be saved to a file, and loaded in a program again later on.\n",
    "import pickle\n",
    "pickle.dump(lgr, open('model.pkl','wb'))"
   ]
  },
  {
   "cell_type": "code",
   "execution_count": 2,
   "id": "787adac8",
   "metadata": {},
   "outputs": [
    {
     "name": "stderr",
     "output_type": "stream",
     "text": [
      "100%|██████████| 29/29 [00:03<00:00,  9.48it/s]\n"
     ]
    },
    {
     "name": "stdout",
     "output_type": "stream",
     "text": [
      "                               Accuracy  Balanced Accuracy  ROC AUC  F1 Score  \\\n",
      "Model                                                                           \n",
      "NearestCentroid                    0.77               0.72     0.72      0.83   \n",
      "GaussianNB                         0.86               0.62     0.62      0.88   \n",
      "QuadraticDiscriminantAnalysis      0.87               0.61     0.61      0.89   \n",
      "DecisionTreeClassifier             0.90               0.59     0.59      0.91   \n",
      "ExtraTreeClassifier                0.92               0.54     0.54      0.91   \n",
      "LinearDiscriminantAnalysis         0.93               0.53     0.53      0.92   \n",
      "LabelSpreading                     0.91               0.53     0.53      0.91   \n",
      "LabelPropagation                   0.91               0.53     0.53      0.91   \n",
      "PassiveAggressiveClassifier        0.91               0.52     0.52      0.90   \n",
      "BernoulliNB                        0.94               0.51     0.51      0.92   \n",
      "AdaBoostClassifier                 0.95               0.51     0.51      0.92   \n",
      "RandomForestClassifier             0.95               0.51     0.51      0.92   \n",
      "Perceptron                         0.95               0.51     0.51      0.92   \n",
      "BaggingClassifier                  0.94               0.51     0.51      0.92   \n",
      "ExtraTreesClassifier               0.94               0.51     0.51      0.92   \n",
      "XGBClassifier                      0.94               0.50     0.50      0.92   \n",
      "RidgeClassifier                    0.95               0.50     0.50      0.92   \n",
      "SGDClassifier                      0.95               0.50     0.50      0.92   \n",
      "RidgeClassifierCV                  0.95               0.50     0.50      0.92   \n",
      "SVC                                0.95               0.50     0.50      0.92   \n",
      "LinearSVC                          0.95               0.50     0.50      0.92   \n",
      "LogisticRegression                 0.95               0.50     0.50      0.92   \n",
      "DummyClassifier                    0.95               0.50     0.50      0.92   \n",
      "CalibratedClassifierCV             0.95               0.50     0.50      0.92   \n",
      "KNeighborsClassifier               0.94               0.50     0.50      0.92   \n",
      "LGBMClassifier                     0.94               0.50     0.50      0.92   \n",
      "\n",
      "                               Time Taken  \n",
      "Model                                      \n",
      "NearestCentroid                      0.01  \n",
      "GaussianNB                           0.01  \n",
      "QuadraticDiscriminantAnalysis        0.01  \n",
      "DecisionTreeClassifier               0.02  \n",
      "ExtraTreeClassifier                  0.01  \n",
      "LinearDiscriminantAnalysis           0.06  \n",
      "LabelSpreading                       0.67  \n",
      "LabelPropagation                     0.45  \n",
      "PassiveAggressiveClassifier          0.01  \n",
      "BernoulliNB                          0.06  \n",
      "AdaBoostClassifier                   0.13  \n",
      "RandomForestClassifier               0.28  \n",
      "Perceptron                           0.01  \n",
      "BaggingClassifier                    0.06  \n",
      "ExtraTreesClassifier                 0.20  \n",
      "XGBClassifier                        0.18  \n",
      "RidgeClassifier                      0.02  \n",
      "SGDClassifier                        0.02  \n",
      "RidgeClassifierCV                    0.01  \n",
      "SVC                                  0.22  \n",
      "LinearSVC                            0.09  \n",
      "LogisticRegression                   0.01  \n",
      "DummyClassifier                      0.01  \n",
      "CalibratedClassifierCV               0.31  \n",
      "KNeighborsClassifier                 0.06  \n",
      "LGBMClassifier                       0.11  \n",
      "[[929   1]\n",
      " [ 51   1]]\n",
      "              precision    recall  f1-score   support\n",
      "\n",
      "           0       0.95      1.00      0.97       930\n",
      "           1       0.50      0.02      0.04        52\n",
      "\n",
      "    accuracy                           0.95       982\n",
      "   macro avg       0.72      0.51      0.50       982\n",
      "weighted avg       0.92      0.95      0.92       982\n",
      "\n",
      "[[929   1]\n",
      " [ 52   0]]\n",
      "              precision    recall  f1-score   support\n",
      "\n",
      "           0       0.95      1.00      0.97       930\n",
      "           1       0.00      0.00      0.00        52\n",
      "\n",
      "    accuracy                           0.95       982\n",
      "   macro avg       0.47      0.50      0.49       982\n",
      "weighted avg       0.90      0.95      0.92       982\n",
      "\n",
      "[[929   1]\n",
      " [ 51   1]]\n",
      "              precision    recall  f1-score   support\n",
      "\n",
      "           0       0.95      1.00      0.97       930\n",
      "           1       0.50      0.02      0.04        52\n",
      "\n",
      "    accuracy                           0.95       982\n",
      "   macro avg       0.72      0.51      0.50       982\n",
      "weighted avg       0.92      0.95      0.92       982\n",
      "\n"
     ]
    }
   ],
   "source": [
    "from lazypredict.Supervised import LazyClassifier\n",
    "clf = LazyClassifier(predictions=True)\n",
    "models, predictions = clf.fit(X_train, X_test, y_train, y_test)\n",
    "print(models)\n",
    "\n",
    "#Random Forrest Classifier\n",
    "from sklearn.ensemble import RandomForestClassifier\n",
    "rfc= RandomForestClassifier(random_state = 1)\n",
    "rfc.fit(X_train,y_train)\n",
    "\n",
    "#K-Nearest Neighbor Classifier\n",
    "from sklearn.neighbors import KNeighborsClassifier\n",
    "knn= KNeighborsClassifier(n_neighbors=7)\n",
    "knn.fit(X_train,y_train)\n",
    "\n",
    "from sklearn.metrics import classification_report,confusion_matrix\n",
    "pred_rfc= rfc.predict(X_test)\n",
    "print(confusion_matrix(y_test,pred_rfc))\n",
    "print(classification_report(y_test,pred_rfc))\n",
    "\n",
    "pred_knn= knn.predict(X_test)\n",
    "print(confusion_matrix(y_test,pred_knn))\n",
    "print(classification_report(y_test,pred_knn))\n",
    "\n",
    "pred_lgr= lgr.predict(X_test)\n",
    "print(confusion_matrix(y_test,pred_lgr))\n",
    "print(classification_report(y_test,pred_lgr))"
   ]
  },
  {
   "cell_type": "code",
   "execution_count": 3,
   "id": "8760359c",
   "metadata": {},
   "outputs": [
    {
     "data": {
      "text/html": [
       "<div>\n",
       "<style scoped>\n",
       "    .dataframe tbody tr th:only-of-type {\n",
       "        vertical-align: middle;\n",
       "    }\n",
       "\n",
       "    .dataframe tbody tr th {\n",
       "        vertical-align: top;\n",
       "    }\n",
       "\n",
       "    .dataframe thead th {\n",
       "        text-align: right;\n",
       "    }\n",
       "</style>\n",
       "<table border=\"1\" class=\"dataframe\">\n",
       "  <thead>\n",
       "    <tr style=\"text-align: right;\">\n",
       "      <th></th>\n",
       "      <th>gender</th>\n",
       "      <th>age</th>\n",
       "      <th>hypertension</th>\n",
       "      <th>heart_disease</th>\n",
       "      <th>ever_married</th>\n",
       "      <th>work_type</th>\n",
       "      <th>Residence_type</th>\n",
       "      <th>avg_glucose_level</th>\n",
       "      <th>bmi</th>\n",
       "      <th>smoking_status</th>\n",
       "      <th>stroke</th>\n",
       "    </tr>\n",
       "  </thead>\n",
       "  <tbody>\n",
       "    <tr>\n",
       "      <th>0</th>\n",
       "      <td>1</td>\n",
       "      <td>67.00</td>\n",
       "      <td>0</td>\n",
       "      <td>1</td>\n",
       "      <td>1</td>\n",
       "      <td>2</td>\n",
       "      <td>1</td>\n",
       "      <td>228.69</td>\n",
       "      <td>36.60</td>\n",
       "      <td>1</td>\n",
       "      <td>1</td>\n",
       "    </tr>\n",
       "    <tr>\n",
       "      <th>1</th>\n",
       "      <td>1</td>\n",
       "      <td>80.00</td>\n",
       "      <td>0</td>\n",
       "      <td>1</td>\n",
       "      <td>1</td>\n",
       "      <td>2</td>\n",
       "      <td>0</td>\n",
       "      <td>105.92</td>\n",
       "      <td>32.50</td>\n",
       "      <td>2</td>\n",
       "      <td>1</td>\n",
       "    </tr>\n",
       "    <tr>\n",
       "      <th>2</th>\n",
       "      <td>0</td>\n",
       "      <td>49.00</td>\n",
       "      <td>0</td>\n",
       "      <td>0</td>\n",
       "      <td>1</td>\n",
       "      <td>2</td>\n",
       "      <td>1</td>\n",
       "      <td>171.23</td>\n",
       "      <td>34.40</td>\n",
       "      <td>3</td>\n",
       "      <td>1</td>\n",
       "    </tr>\n",
       "    <tr>\n",
       "      <th>3</th>\n",
       "      <td>0</td>\n",
       "      <td>79.00</td>\n",
       "      <td>1</td>\n",
       "      <td>0</td>\n",
       "      <td>1</td>\n",
       "      <td>3</td>\n",
       "      <td>0</td>\n",
       "      <td>174.12</td>\n",
       "      <td>24.00</td>\n",
       "      <td>2</td>\n",
       "      <td>1</td>\n",
       "    </tr>\n",
       "    <tr>\n",
       "      <th>4</th>\n",
       "      <td>1</td>\n",
       "      <td>81.00</td>\n",
       "      <td>0</td>\n",
       "      <td>0</td>\n",
       "      <td>1</td>\n",
       "      <td>2</td>\n",
       "      <td>1</td>\n",
       "      <td>186.21</td>\n",
       "      <td>29.00</td>\n",
       "      <td>1</td>\n",
       "      <td>1</td>\n",
       "    </tr>\n",
       "  </tbody>\n",
       "</table>\n",
       "</div>"
      ],
      "text/plain": [
       "   gender   age  hypertension  heart_disease  ever_married  work_type  \\\n",
       "0       1 67.00             0              1             1          2   \n",
       "1       1 80.00             0              1             1          2   \n",
       "2       0 49.00             0              0             1          2   \n",
       "3       0 79.00             1              0             1          3   \n",
       "4       1 81.00             0              0             1          2   \n",
       "\n",
       "   Residence_type  avg_glucose_level   bmi  smoking_status  stroke  \n",
       "0               1             228.69 36.60               1       1  \n",
       "1               0             105.92 32.50               2       1  \n",
       "2               1             171.23 34.40               3       1  \n",
       "3               0             174.12 24.00               2       1  \n",
       "4               1             186.21 29.00               1       1  "
      ]
     },
     "execution_count": 3,
     "metadata": {},
     "output_type": "execute_result"
    }
   ],
   "source": [
    "final_data.head()"
   ]
  },
  {
   "cell_type": "code",
   "execution_count": 4,
   "id": "718351cc",
   "metadata": {},
   "outputs": [
    {
     "name": "stdout",
     "output_type": "stream",
     "text": [
      "<class 'pandas.core.frame.DataFrame'>\n",
      "RangeIndex: 4908 entries, 0 to 4907\n",
      "Data columns (total 11 columns):\n",
      " #   Column             Non-Null Count  Dtype  \n",
      "---  ------             --------------  -----  \n",
      " 0   gender             4908 non-null   int32  \n",
      " 1   age                4908 non-null   float64\n",
      " 2   hypertension       4908 non-null   int64  \n",
      " 3   heart_disease      4908 non-null   int64  \n",
      " 4   ever_married       4908 non-null   int32  \n",
      " 5   work_type          4908 non-null   int32  \n",
      " 6   Residence_type     4908 non-null   int32  \n",
      " 7   avg_glucose_level  4908 non-null   float64\n",
      " 8   bmi                4908 non-null   float64\n",
      " 9   smoking_status     4908 non-null   int32  \n",
      " 10  stroke             4908 non-null   int64  \n",
      "dtypes: float64(3), int32(5), int64(3)\n",
      "memory usage: 326.0 KB\n"
     ]
    }
   ],
   "source": [
    "final_data.info()"
   ]
  },
  {
   "cell_type": "code",
   "execution_count": 5,
   "id": "effc2809",
   "metadata": {},
   "outputs": [
    {
     "data": {
      "text/plain": [
       "2    2810\n",
       "3     775\n",
       "4     671\n",
       "0     630\n",
       "1      22\n",
       "Name: work_type, dtype: int64"
      ]
     },
     "execution_count": 5,
     "metadata": {},
     "output_type": "execute_result"
    }
   ],
   "source": [
    "final_data['work_type'].value_counts()"
   ]
  },
  {
   "cell_type": "code",
   "execution_count": 7,
   "id": "676c9be3",
   "metadata": {},
   "outputs": [
    {
     "data": {
      "text/plain": [
       "1    2490\n",
       "0    2418\n",
       "Name: Residence_type, dtype: int64"
      ]
     },
     "execution_count": 7,
     "metadata": {},
     "output_type": "execute_result"
    }
   ],
   "source": [
    "final_data['Residence_type'].value_counts()"
   ]
  },
  {
   "cell_type": "code",
   "execution_count": 8,
   "id": "45c0ae34",
   "metadata": {},
   "outputs": [
    {
     "data": {
      "text/plain": [
       "2    1852\n",
       "0    1483\n",
       "1     836\n",
       "3     737\n",
       "Name: smoking_status, dtype: int64"
      ]
     },
     "execution_count": 8,
     "metadata": {},
     "output_type": "execute_result"
    }
   ],
   "source": [
    "final_data['smoking_status'].value_counts()"
   ]
  },
  {
   "cell_type": "code",
   "execution_count": 9,
   "id": "34a23890",
   "metadata": {},
   "outputs": [
    {
     "data": {
      "text/plain": [
       "0    4699\n",
       "1     209\n",
       "Name: stroke, dtype: int64"
      ]
     },
     "execution_count": 9,
     "metadata": {},
     "output_type": "execute_result"
    }
   ],
   "source": [
    "final_data['stroke'].value_counts()"
   ]
  },
  {
   "cell_type": "code",
   "execution_count": null,
   "id": "71719592",
   "metadata": {},
   "outputs": [],
   "source": []
  }
 ],
 "metadata": {
  "kernelspec": {
   "display_name": "Python 3 (ipykernel)",
   "language": "python",
   "name": "python3"
  },
  "language_info": {
   "codemirror_mode": {
    "name": "ipython",
    "version": 3
   },
   "file_extension": ".py",
   "mimetype": "text/x-python",
   "name": "python",
   "nbconvert_exporter": "python",
   "pygments_lexer": "ipython3",
   "version": "3.9.16"
  }
 },
 "nbformat": 4,
 "nbformat_minor": 5
}
